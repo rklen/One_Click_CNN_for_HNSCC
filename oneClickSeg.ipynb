{
 "cells": [
  {
   "cell_type": "code",
   "execution_count": 16,
   "metadata": {},
   "outputs": [],
   "source": [
    "import numpy as np\n",
    "import matplotlib.pyplot as plt\n",
    "import random\n",
    "import math\n",
    "import cv2\n",
    "import nibabel as nib\n",
    "from scipy import ndimage\n",
    "import tensorflow as tf\n",
    "import scipy\n",
    "from scipy.stats import wilcoxon"
   ]
  },
  {
   "cell_type": "code",
   "execution_count": 24,
   "metadata": {},
   "outputs": [],
   "source": [
    "#save the image slices, masks, and information about one-click\n",
    "\n",
    "posPatients = np.array([2,4,9,11,12,15,16,17,18,19,21,22,5,6,7,8,13,14])\n",
    "locList = []\n",
    "maskList = []\n",
    "posList = []\n",
    "\n",
    "img_height=64\n",
    "limit=0.25\n",
    "pixLimit=5\n",
    "\n",
    "comList = []\n",
    "pixList = []\n",
    "\n",
    "for i in range(18):\n",
    "    if posPatients[i]==12:\n",
    "        img_path = 'C:/Users/Oona/Documents/Tpc/hnc/anom_data/positiiviset/12_anon/12_maski/12_maskit.img'\n",
    "    else:\n",
    "        img_path = 'C:/Users/Oona/Documents/Tpc/hnc/anom_data/positiiviset/{}_anon/{}_maski/{}_maski.img'.format(\n",
    "                        posPatients[i],posPatients[i],posPatients[i])\n",
    "    img = nib.load(img_path)\n",
    "    img_data = img.get_fdata()\n",
    "    locations = []\n",
    "    masks = []\n",
    "    for j in range(img_data.shape[2]):\n",
    "        slice = np.array(img_data[:,:,j])\n",
    "        if np.max(slice)>0:\n",
    "            slice=cv2.resize(slice,(img_height,img_height))\n",
    "            for k in range(img_height):\n",
    "                for l in range(img_height):\n",
    "                    if slice[k,l]>limit:\n",
    "                        slice[k,l]=1\n",
    "                    else:\n",
    "                        slice[k,l]=0\n",
    "            if np.sum(slice)>pixLimit:\n",
    "                locations.append(j)\n",
    "                masks.append(slice)\n",
    "    locList.append(np.array(locations))\n",
    "    maskList.append(masks)\n",
    "\n",
    "maskList = maskList[0:12]+[maskList[12]+maskList[13]]+[maskList[14]+maskList[15]]+[maskList[16]+maskList[17]]\n",
    "\n",
    "for i in range(18):\n",
    "    img_path = 'C:/Users/Oona/Documents/Tpc/hnc/anom_data/positiiviset/{}_anon/{}_nifti_pet/{}_nifti_pet.img'.format(\n",
    "                        posPatients[i],posPatients[i],posPatients[i])\n",
    "    img = nib.load(img_path)\n",
    "    img_data = img.get_fdata()\n",
    "    pos = []\n",
    "    for j in range(len(locList[i])):\n",
    "        pos.append(cv2.resize(np.array(img_data[:,:,locList[i][j]]),(img_height,img_height)))\n",
    "    posList.append(pos)\n",
    "\n",
    "posList = posList[0:12]+[posList[12]+posList[13]]+[posList[14]+posList[15]]+[posList[16]+posList[17]]\n",
    "\n",
    "for i in range(15):\n",
    "    comImgs=[]\n",
    "    for j in range(len(maskList[i])):\n",
    "        img=maskList[i][j]\n",
    "        com=ndimage.measurements.center_of_mass(img)\n",
    "        img1=np.zeros((img_height,img_height))\n",
    "        img1[round(com[0]),round(com[1])]=1\n",
    "        comImgs.append(img1)\n",
    "    comList.append(comImgs)\n",
    "\n",
    "for i in range(15):\n",
    "    pixImgs=[]\n",
    "    for j in range(len(maskList[i])):\n",
    "        img=maskList[i][j]\n",
    "        options=[]\n",
    "        for k in range(img_height):\n",
    "            for l in range(img_height):\n",
    "                if img[k,l]==1:\n",
    "                    options.append(np.array([k,l]))\n",
    "        img1=np.zeros((img_height,img_height))\n",
    "        onePix=random.choice(options)\n",
    "        img1[onePix[0],onePix[1]]=1\n",
    "        pixImgs.append(img1)\n",
    "    pixList.append(pixImgs)"
   ]
  },
  {
   "cell_type": "code",
   "execution_count": 47,
   "metadata": {},
   "outputs": [],
   "source": [
    "#create train and test data sets for image data and one-click information (x) and correct masks (y)\n",
    "\n",
    "def splitIntoSets(posList,maskList,comList,pixList,testSetPatients,type):\n",
    "\n",
    "    #type is 'com' for center of mass, 'pix' for random positive pixel, and 'no' if neither\n",
    "\n",
    "    x_train = []\n",
    "    y_train = []\n",
    "    x_test = []\n",
    "    y_test = []\n",
    "\n",
    "    for i in range(15):\n",
    "        if i in testSetPatients:\n",
    "            for j in range(len(posList[i])):\n",
    "                img=(posList[i][j]-np.min(posList[i][j]))/(np.max(posList[i][j])-np.min(posList[i][j]))\n",
    "                if type=='com':\n",
    "                    x_test.append(np.rollaxis(np.array([img,comList[i][j]]),0,3))\n",
    "                if type=='pix':\n",
    "                    x_test.append(np.rollaxis(np.array([img,pixList[i][j]]),0,3))\n",
    "                if type=='no':\n",
    "                    x_test.append(img)\n",
    "                y_test.append(cv2.resize(maskList[i][j],(img_height,img_height)))   \n",
    "        else:\n",
    "            for j in range(len(posList[i])):\n",
    "                img=(posList[i][j]-np.min(posList[i][j]))/(np.max(posList[i][j])-np.min(posList[i][j]))\n",
    "                if type=='com':\n",
    "                    x_train.append(np.rollaxis(np.array([img,comList[i][j]]),0,3))\n",
    "                if type=='pix':\n",
    "                    x_train.append(np.rollaxis(np.array([img,pixList[i][j]]),0,3))\n",
    "                if type=='no':\n",
    "                    x_train.append(img)\n",
    "                y_train.append(cv2.resize(maskList[i][j],(img_height,img_height)))  \n",
    "\n",
    "    x_train=np.array(x_train)\n",
    "    y_train=np.array(y_train)\n",
    "    x_test=np.array(x_test)\n",
    "    y_test=np.array(y_test)\n",
    "\n",
    "    return([x_train,y_train,x_test,y_test])\n",
    "\n",
    "#Unet CNN for segmentation\n",
    "\n",
    "def unetForSegmentation(shape):\n",
    "\n",
    "    img_height=shape[1]\n",
    "    if len(shape)==4:\n",
    "        chl_number=shape[3]\n",
    "    else:\n",
    "        chl_number=1\n",
    "\n",
    "    #U-Net model\n",
    "    inputs = tf.keras.layers.Input(shape=(img_height,img_height,chl_number))\n",
    "\n",
    "    #Contraction path\n",
    "    c1 = tf.keras.layers.Conv2D(16, (3, 3), activation='relu', kernel_initializer='he_normal', padding='same')(inputs)\n",
    "    c1 = tf.keras.layers.Dropout(0.1)(c1)\n",
    "    c1 = tf.keras.layers.Conv2D(16, (3, 3), activation='relu', kernel_initializer='he_normal', padding='same')(c1)\n",
    "    p1 = tf.keras.layers.MaxPooling2D((2, 2))(c1)\n",
    "\n",
    "    c2 = tf.keras.layers.Conv2D(32, (3, 3), activation='relu', kernel_initializer='he_normal', padding='same')(p1)\n",
    "    c2 = tf.keras.layers.Dropout(0.1)(c2)\n",
    "    c2 = tf.keras.layers.Conv2D(32, (3, 3), activation='relu', kernel_initializer='he_normal', padding='same')(c2)\n",
    "    p2 = tf.keras.layers.MaxPooling2D((2, 2))(c2)\n",
    "\n",
    "    c3 = tf.keras.layers.Conv2D(64, (3, 3), activation='relu', kernel_initializer='he_normal', padding='same')(p2)\n",
    "    c3 = tf.keras.layers.Dropout(0.2)(c3)\n",
    "    c3 = tf.keras.layers.Conv2D(64, (3, 3), activation='relu', kernel_initializer='he_normal', padding='same')(c3)\n",
    "\n",
    "    #Expansive path\n",
    "    u8 = tf.keras.layers.Conv2DTranspose(32, (2, 2), strides=(2, 2), padding='same')(c3)\n",
    "    u8 = tf.keras.layers.concatenate([u8, c2])\n",
    "    c8 = tf.keras.layers.Conv2D(32, (3, 3), activation='relu', kernel_initializer='he_normal', padding='same')(u8)\n",
    "    c8 = tf.keras.layers.Dropout(0.1)(c8)\n",
    "    c8 = tf.keras.layers.Conv2D(32, (3, 3), activation='relu', kernel_initializer='he_normal', padding='same')(c8)\n",
    "\n",
    "    u9 = tf.keras.layers.Conv2DTranspose(16, (2, 2), strides=(2, 2), padding='same')(c8)\n",
    "    u9 = tf.keras.layers.concatenate([u9, c1], axis=3)\n",
    "    c9 = tf.keras.layers.Conv2D(16, (3, 3), activation='relu', kernel_initializer='he_normal', padding='same')(u9)\n",
    "    c9 = tf.keras.layers.Dropout(0.1)(c9)\n",
    "    c9 = tf.keras.layers.Conv2D(16, (3, 3), activation='relu', kernel_initializer='he_normal', padding='same')(c9)\n",
    "\n",
    "    outputs = tf.keras.layers.Conv2D(1, (1,1), activation='linear')(c9) #sigmoid or linear\n",
    "\n",
    "    model = tf.keras.Model(inputs=[inputs], outputs=[outputs])\n",
    "    model.compile(optimizer='adam', loss='binary_crossentropy')\n",
    "\n",
    "    return model\n",
    "\n",
    "#count the dice scores between predictions converted into binary with limit and y_test (real mask of the test set)\n",
    "\n",
    "def dicesForLimit(predictions,y_test,limit):\n",
    "\n",
    "    dices=np.zeros((len(y_test)))\n",
    "\n",
    "    img_height=predictions[0].shape[0]\n",
    "\n",
    "    for k in range(len(y_test)):\n",
    "        TP=0\n",
    "        FN=0\n",
    "        FP=0\n",
    "        for i in range(img_height):\n",
    "            for j in range(img_height):\n",
    "                if y_test[k,i,j]>0.5 and predictions[k,i,j]>limit:\n",
    "                    TP+=1\n",
    "                if y_test[k,i,j]>0.5 and predictions[k,i,j]<limit:\n",
    "                    FN+=1\n",
    "                if y_test[k,i,j]<0.5 and predictions[k,i,j]>limit:\n",
    "                    FP+=1\n",
    "        if TP+FN+FP>0:\n",
    "            dices[k]=2*TP/(2*TP+FN+FP)\n",
    "\n",
    "    return(dices)\n",
    "\n",
    "#find the best limit to convert predictions into binary\n",
    "\n",
    "def optimizeDiceLimit(predictions,y_test):\n",
    "\n",
    "    potLimits=0.01*np.array(range(0,100))\n",
    "    medianDices = []\n",
    "\n",
    "    for i in range(len(potLimits)):\n",
    "        medianDices.append(np.median(dicesForLimit(predictions,y_test,potLimits[i])))\n",
    "\n",
    "    limit=potLimits[medianDices.index(max(medianDices))]\n",
    "\n",
    "    return(limit)\n",
    "\n",
    "#create one binary mask\n",
    "\n",
    "def turnIntoBinaryMask(img,lim):\n",
    "\n",
    "    img_height=img.shape[0]\n",
    "\n",
    "    binM=np.zeros((img_height,img_height))\n",
    "\n",
    "    for i in range(img_height):\n",
    "        for j in range(img_height):\n",
    "            if img[i][j]>lim:\n",
    "                binM[i][j]=1\n",
    "    \n",
    "    return binM\n",
    "\n",
    "#algorithm for removing segmentation further away from the one-click pixel\n",
    "\n",
    "def removePixels(predictions,x_test,limit):\n",
    "\n",
    "    predictions1=[]\n",
    "\n",
    "    for k in range(len(predictions)):\n",
    "\n",
    "        img=turnIntoBinaryMask(predictions[k],limit)\n",
    "        ind=np.unravel_index(np.argmax(x_test[k,:,:,1],axis=None),img.shape)\n",
    "        c=True\n",
    "\n",
    "        k0=ind[0]-1\n",
    "        k1=ind[0]+1\n",
    "        k2=ind[1]-1\n",
    "        k3=ind[1]+1\n",
    "\n",
    "        while c:\n",
    "            c=False\n",
    "            if np.sum(img[k0,k2:k3])>0:\n",
    "                if k0>0:\n",
    "                    c=True\n",
    "                k0=np.max([k0-1,0])\n",
    "            if np.sum(img[k1,k2:k3])>0:\n",
    "                if k1<64:\n",
    "                    c=True\n",
    "                k1=np.min([k1+1,63])\n",
    "            if np.sum(img[k0:k1,k2])>0:\n",
    "                if k2>0:\n",
    "                    c=True\n",
    "                k2=np.max([k2-1,0])\n",
    "            if np.sum(img[k0:k1,k3])>0:\n",
    "                if k3<63:\n",
    "                    c=True\n",
    "            k3=np.min([k3+1,63])\n",
    "\n",
    "        for i in range(img_height):\n",
    "            for j in range(img_height):\n",
    "                if i<k0 or i>k1 or j<k2 or j>k3: \n",
    "                    img[i,j]=0\n",
    "\n",
    "        predictions1.append(img)\n",
    "\n",
    "    predictions1=np.array(predictions1)\n",
    "\n",
    "    return(predictions1)"
   ]
  },
  {
   "cell_type": "code",
   "execution_count": 134,
   "metadata": {},
   "outputs": [
    {
     "name": "stdout",
     "output_type": "stream",
     "text": [
      "(112, 64, 64, 2)\n",
      "(112, 64, 64)\n",
      "(29, 64, 64, 2)\n",
      "(29, 64, 64)\n"
     ]
    }
   ],
   "source": [
    "#create data sets from certain test set pairs\n",
    "\n",
    "tsn=1\n",
    "\n",
    "if tsn==1:\n",
    "    testSetPatients=[3,10,12]\n",
    "if tsn==2:\n",
    "    testSetPatients=[7,8,9]\n",
    "if tsn==3:\n",
    "    testSetPatients=[2,4,11]\n",
    "if tsn==4:\n",
    "    testSetPatients=[1,5,14]\n",
    "if tsn==5:\n",
    "    testSetPatients=[0,6,13]\n",
    "\n",
    "x_train,y_train,x_test,y_test=splitIntoSets(posList,maskList,comList,pixList,testSetPatients,'com')\n",
    "\n",
    "print(x_train.shape)\n",
    "print(y_train.shape)\n",
    "print(x_test.shape)\n",
    "print(y_test.shape)"
   ]
  },
  {
   "cell_type": "code",
   "execution_count": 135,
   "metadata": {},
   "outputs": [
    {
     "name": "stdout",
     "output_type": "stream",
     "text": [
      "Epoch 1/100\n",
      "3/3 [==============================] - 4s 939ms/step - loss: 0.1103 - val_loss: 0.1091\n",
      "Epoch 2/100\n",
      "3/3 [==============================] - 2s 700ms/step - loss: 0.1079 - val_loss: 0.0958\n",
      "Epoch 3/100\n",
      "3/3 [==============================] - 2s 726ms/step - loss: 0.0924 - val_loss: 0.0583\n",
      "Epoch 4/100\n",
      "3/3 [==============================] - 2s 813ms/step - loss: 0.0712 - val_loss: 0.0315\n",
      "Epoch 5/100\n",
      "3/3 [==============================] - 2s 684ms/step - loss: 0.0578 - val_loss: 0.0301\n",
      "Epoch 6/100\n",
      "3/3 [==============================] - 2s 710ms/step - loss: 0.0507 - val_loss: 0.0503\n",
      "Epoch 7/100\n",
      "3/3 [==============================] - 2s 693ms/step - loss: 0.0430 - val_loss: 0.0245\n",
      "Epoch 8/100\n",
      "3/3 [==============================] - 2s 705ms/step - loss: 0.0396 - val_loss: 0.0558\n",
      "Epoch 9/100\n",
      "3/3 [==============================] - 2s 698ms/step - loss: 0.0452 - val_loss: 0.0520\n",
      "Epoch 10/100\n",
      "3/3 [==============================] - 2s 695ms/step - loss: 0.0373 - val_loss: 0.0234\n",
      "Epoch 11/100\n",
      "3/3 [==============================] - 2s 701ms/step - loss: 0.0440 - val_loss: 0.0210\n",
      "Epoch 12/100\n",
      "3/3 [==============================] - 2s 689ms/step - loss: 0.0368 - val_loss: 0.0318\n",
      "Epoch 13/100\n",
      "3/3 [==============================] - 2s 707ms/step - loss: 0.0290 - val_loss: 0.0361\n",
      "Epoch 14/100\n",
      "3/3 [==============================] - 2s 689ms/step - loss: 0.0281 - val_loss: 0.0263\n",
      "Epoch 15/100\n",
      "3/3 [==============================] - 2s 708ms/step - loss: 0.0244 - val_loss: 0.0188\n",
      "Epoch 16/100\n",
      "3/3 [==============================] - 2s 696ms/step - loss: 0.0320 - val_loss: 0.0182\n",
      "Epoch 17/100\n",
      "3/3 [==============================] - 2s 704ms/step - loss: 0.0244 - val_loss: 0.0233\n",
      "Epoch 18/100\n",
      "3/3 [==============================] - 2s 698ms/step - loss: 0.0231 - val_loss: 0.0269\n",
      "Epoch 19/100\n",
      "3/3 [==============================] - 2s 701ms/step - loss: 0.0245 - val_loss: 0.0245\n",
      "Epoch 20/100\n",
      "3/3 [==============================] - 2s 712ms/step - loss: 0.0214 - val_loss: 0.0181\n",
      "Epoch 21/100\n",
      "3/3 [==============================] - 2s 693ms/step - loss: 0.0221 - val_loss: 0.0266\n",
      "Epoch 22/100\n",
      "3/3 [==============================] - 2s 705ms/step - loss: 0.0264 - val_loss: 0.0365\n",
      "Epoch 23/100\n",
      "3/3 [==============================] - 2s 706ms/step - loss: 0.0324 - val_loss: 0.0263\n",
      "Epoch 24/100\n",
      "3/3 [==============================] - 2s 728ms/step - loss: 0.0232 - val_loss: 0.0190\n",
      "Epoch 25/100\n",
      "3/3 [==============================] - 2s 703ms/step - loss: 0.0281 - val_loss: 0.0216\n",
      "Epoch 26/100\n",
      "3/3 [==============================] - 2s 708ms/step - loss: 0.0297 - val_loss: 0.0183\n",
      "Epoch 27/100\n",
      "3/3 [==============================] - 2s 764ms/step - loss: 0.0215 - val_loss: 0.0173\n",
      "Epoch 28/100\n",
      "3/3 [==============================] - 2s 683ms/step - loss: 0.0197 - val_loss: 0.0176\n",
      "Epoch 29/100\n",
      "3/3 [==============================] - 2s 684ms/step - loss: 0.0196 - val_loss: 0.0167\n",
      "Epoch 30/100\n",
      "3/3 [==============================] - 2s 693ms/step - loss: 0.0186 - val_loss: 0.0162\n",
      "Epoch 31/100\n",
      "3/3 [==============================] - 2s 680ms/step - loss: 0.0185 - val_loss: 0.0150\n",
      "Epoch 32/100\n",
      "3/3 [==============================] - 2s 687ms/step - loss: 0.0186 - val_loss: 0.0147\n",
      "Epoch 33/100\n",
      "3/3 [==============================] - 2s 679ms/step - loss: 0.0185 - val_loss: 0.0145\n",
      "Epoch 34/100\n",
      "3/3 [==============================] - 2s 678ms/step - loss: 0.0192 - val_loss: 0.0143\n",
      "Epoch 35/100\n",
      "3/3 [==============================] - 2s 696ms/step - loss: 0.0180 - val_loss: 0.0141\n",
      "Epoch 36/100\n",
      "3/3 [==============================] - 2s 681ms/step - loss: 0.0163 - val_loss: 0.0142\n",
      "Epoch 37/100\n",
      "3/3 [==============================] - 2s 686ms/step - loss: 0.0161 - val_loss: 0.0147\n",
      "Epoch 38/100\n",
      "3/3 [==============================] - 2s 730ms/step - loss: 0.0158 - val_loss: 0.0158\n",
      "Epoch 39/100\n",
      "3/3 [==============================] - 2s 683ms/step - loss: 0.0201 - val_loss: 0.0155\n",
      "Epoch 40/100\n",
      "3/3 [==============================] - 2s 683ms/step - loss: 0.0163 - val_loss: 0.0156\n",
      "Epoch 41/100\n",
      "3/3 [==============================] - 2s 674ms/step - loss: 0.0160 - val_loss: 0.0140\n",
      "Epoch 42/100\n",
      "3/3 [==============================] - 2s 682ms/step - loss: 0.0162 - val_loss: 0.0134\n",
      "Epoch 43/100\n",
      "3/3 [==============================] - 2s 678ms/step - loss: 0.0160 - val_loss: 0.0133\n",
      "Epoch 44/100\n",
      "3/3 [==============================] - 2s 678ms/step - loss: 0.0153 - val_loss: 0.0145\n",
      "Epoch 45/100\n",
      "3/3 [==============================] - 2s 675ms/step - loss: 0.0154 - val_loss: 0.0141\n",
      "Epoch 46/100\n",
      "3/3 [==============================] - 2s 682ms/step - loss: 0.0147 - val_loss: 0.0139\n",
      "Epoch 47/100\n",
      "3/3 [==============================] - 2s 707ms/step - loss: 0.0145 - val_loss: 0.0141\n",
      "Epoch 48/100\n",
      "3/3 [==============================] - 2s 676ms/step - loss: 0.0153 - val_loss: 0.0135\n",
      "Epoch 49/100\n",
      "3/3 [==============================] - 2s 671ms/step - loss: 0.0140 - val_loss: 0.0127\n",
      "Epoch 50/100\n",
      "3/3 [==============================] - 2s 683ms/step - loss: 0.0142 - val_loss: 0.0125\n",
      "Epoch 51/100\n",
      "3/3 [==============================] - 2s 684ms/step - loss: 0.0140 - val_loss: 0.0123\n",
      "Epoch 52/100\n",
      "3/3 [==============================] - 2s 678ms/step - loss: 0.0137 - val_loss: 0.0124\n",
      "Epoch 53/100\n",
      "3/3 [==============================] - 2s 705ms/step - loss: 0.0141 - val_loss: 0.0120\n",
      "Epoch 54/100\n",
      "3/3 [==============================] - 2s 723ms/step - loss: 0.0132 - val_loss: 0.0120\n",
      "Epoch 55/100\n",
      "3/3 [==============================] - 2s 691ms/step - loss: 0.0139 - val_loss: 0.0132\n",
      "Epoch 56/100\n",
      "3/3 [==============================] - 2s 612ms/step - loss: 0.0147 - val_loss: 0.0129\n",
      "Epoch 57/100\n",
      "3/3 [==============================] - 2s 613ms/step - loss: 0.0128 - val_loss: 0.0131\n",
      "Epoch 58/100\n",
      "3/3 [==============================] - 2s 598ms/step - loss: 0.0135 - val_loss: 0.0127\n",
      "Epoch 59/100\n",
      "3/3 [==============================] - 2s 592ms/step - loss: 0.0129 - val_loss: 0.0130\n",
      "Epoch 60/100\n",
      "3/3 [==============================] - 2s 640ms/step - loss: 0.0131 - val_loss: 0.0118\n",
      "Epoch 61/100\n",
      "3/3 [==============================] - 2s 629ms/step - loss: 0.0121 - val_loss: 0.0122\n",
      "Epoch 62/100\n",
      "3/3 [==============================] - 2s 664ms/step - loss: 0.0127 - val_loss: 0.0120\n",
      "Epoch 63/100\n",
      "3/3 [==============================] - 2s 639ms/step - loss: 0.0117 - val_loss: 0.0136\n",
      "Epoch 64/100\n",
      "3/3 [==============================] - 2s 739ms/step - loss: 0.0133 - val_loss: 0.0133\n",
      "Epoch 65/100\n",
      "3/3 [==============================] - 2s 777ms/step - loss: 0.0121 - val_loss: 0.0124\n",
      "Epoch 66/100\n",
      "3/3 [==============================] - 2s 762ms/step - loss: 0.0118 - val_loss: 0.0131\n",
      "Epoch 67/100\n",
      "3/3 [==============================] - 2s 690ms/step - loss: 0.0123 - val_loss: 0.0126\n",
      "Epoch 68/100\n",
      "3/3 [==============================] - 2s 631ms/step - loss: 0.0112 - val_loss: 0.0126\n",
      "Epoch 69/100\n",
      "3/3 [==============================] - 2s 625ms/step - loss: 0.0109 - val_loss: 0.0133\n",
      "Epoch 70/100\n",
      "3/3 [==============================] - 2s 606ms/step - loss: 0.0115 - val_loss: 0.0459\n",
      "Epoch 71/100\n",
      "3/3 [==============================] - 2s 614ms/step - loss: 0.0480 - val_loss: 0.0161\n",
      "Epoch 72/100\n",
      "3/3 [==============================] - 2s 602ms/step - loss: 0.0209 - val_loss: 0.0257\n",
      "Epoch 73/100\n",
      "3/3 [==============================] - 2s 617ms/step - loss: 0.0292 - val_loss: 0.0170\n",
      "Epoch 74/100\n",
      "3/3 [==============================] - 2s 625ms/step - loss: 0.0203 - val_loss: 0.0170\n",
      "Epoch 75/100\n",
      "3/3 [==============================] - 2s 612ms/step - loss: 0.0200 - val_loss: 0.0176\n",
      "Epoch 76/100\n",
      "3/3 [==============================] - 2s 593ms/step - loss: 0.0201 - val_loss: 0.0172\n",
      "Epoch 77/100\n",
      "3/3 [==============================] - 2s 602ms/step - loss: 0.0198 - val_loss: 0.0164\n",
      "Epoch 78/100\n",
      "3/3 [==============================] - 2s 610ms/step - loss: 0.0192 - val_loss: 0.0159\n",
      "Epoch 79/100\n",
      "3/3 [==============================] - 2s 623ms/step - loss: 0.0187 - val_loss: 0.0157\n",
      "Epoch 80/100\n",
      "3/3 [==============================] - 2s 659ms/step - loss: 0.0195 - val_loss: 0.0154\n",
      "Epoch 81/100\n",
      "3/3 [==============================] - 2s 613ms/step - loss: 0.0184 - val_loss: 0.0150\n",
      "Epoch 82/100\n",
      "3/3 [==============================] - 2s 752ms/step - loss: 0.0176 - val_loss: 0.0148\n",
      "Epoch 83/100\n",
      "3/3 [==============================] - 3s 733ms/step - loss: 0.0177 - val_loss: 0.0146\n",
      "Epoch 84/100\n",
      "3/3 [==============================] - 2s 731ms/step - loss: 0.0170 - val_loss: 0.0143\n",
      "Epoch 85/100\n",
      "3/3 [==============================] - 2s 746ms/step - loss: 0.0166 - val_loss: 0.0142\n",
      "Epoch 86/100\n",
      "3/3 [==============================] - 2s 728ms/step - loss: 0.0162 - val_loss: 0.0140\n",
      "Epoch 87/100\n",
      "3/3 [==============================] - 2s 788ms/step - loss: 0.0162 - val_loss: 0.0137\n",
      "Epoch 88/100\n",
      "3/3 [==============================] - 2s 675ms/step - loss: 0.0156 - val_loss: 0.0135\n",
      "Epoch 89/100\n",
      "3/3 [==============================] - 2s 606ms/step - loss: 0.0157 - val_loss: 0.0136\n",
      "Epoch 90/100\n",
      "3/3 [==============================] - 2s 612ms/step - loss: 0.0148 - val_loss: 0.0133\n"
     ]
    },
    {
     "data": {
      "text/plain": [
       "[<matplotlib.lines.Line2D at 0x19a8b2fa7f0>]"
      ]
     },
     "execution_count": 135,
     "metadata": {},
     "output_type": "execute_result"
    },
    {
     "data": {
      "image/png": "[encoded data removed]",
      "text/plain": [
       "<Figure size 432x288 with 1 Axes>"
      ]
     },
     "metadata": {
      "needs_background": "light"
     },
     "output_type": "display_data"
    }
   ],
   "source": [
    "#run the model\n",
    "\n",
    "model=unetForSegmentation(x_test.shape)\n",
    "numEpochs=100\n",
    "earlystopping = tf.keras.callbacks.EarlyStopping(monitor='val_loss',mode='min', patience=30, restore_best_weights=True)\n",
    "history=model.fit(x=x_train,y=y_train,epochs=numEpochs,validation_split=0.3,callbacks=[earlystopping],shuffle=True)\n",
    "trainPredictions=model.predict(x_train)\n",
    "predictions=model.predict(x_test)\n",
    "plt.plot(range(len(history.history['loss'])),history.history['loss'],color='blue')"
   ]
  },
  {
   "cell_type": "code",
   "execution_count": 136,
   "metadata": {},
   "outputs": [
    {
     "name": "stdout",
     "output_type": "stream",
     "text": [
      "0.38\n",
      "0.533\n",
      "0.408\n",
      "0.553\n",
      "0.277\n"
     ]
    }
   ],
   "source": [
    "#print the results by using predictions of the training data to find limit for converting test set predictions into binary\n",
    "\n",
    "lim=optimizeDiceLimit(trainPredictions,y_train)\n",
    "print(lim)\n",
    "dices=dicesForLimit(predictions,y_test,lim)\n",
    "print(np.round(np.median(dices),3))\n",
    "print(np.round(np.percentile(dices,75)-np.percentile(dices,25),3))\n",
    "print(np.round(np.mean(dices),3))\n",
    "print(np.round(np.std(dices),3))"
   ]
  },
  {
   "cell_type": "code",
   "execution_count": 137,
   "metadata": {},
   "outputs": [
    {
     "data": {
      "text/plain": [
       "array([0.        , 0.4137931 , 0.83333333, 0.91891892, 0.92307692,\n",
       "       0.90566038, 0.94285714, 0.87234043, 0.77192982, 0.70491803,\n",
       "       0.74418605, 0.7394958 , 0.80898876, 0.8       , 0.47058824,\n",
       "       0.53333333, 0.58536585, 0.32142857, 0.28571429, 0.41509434,\n",
       "       0.46808511, 0.49019608, 0.39215686, 0.31578947, 0.33613445,\n",
       "       0.515625  , 0.53703704, 0.        , 0.        ])"
      ]
     },
     "execution_count": 137,
     "metadata": {},
     "output_type": "execute_result"
    }
   ],
   "source": [
    "dices"
   ]
  },
  {
   "cell_type": "code",
   "execution_count": 113,
   "metadata": {},
   "outputs": [],
   "source": [
    "np.savetxt('ts{}_com_dices.txt'.format(tsn),dices)\n",
    "\n",
    "for i in range(len(trainPredictions)):\n",
    "    np.savetxt('ts{}_{}_com_trainPredictions.txt'.format(tsn,i), trainPredictions[i][:,:,0])\n",
    "\n",
    "for i in range(len(predictions)):\n",
    "    np.savetxt('ts{}_{}_com_predictions.txt'.format(tsn,i), predictions[i][:,:,0])"
   ]
  },
  {
   "cell_type": "code",
   "execution_count": 78,
   "metadata": {},
   "outputs": [],
   "source": [
    "np.savetxt('ts{}_pix_dices.txt'.format(tsn),dices)\n",
    "\n",
    "for i in range(len(trainPredictions)):\n",
    "    np.savetxt('ts{}_{}_pix_trainPredictions.txt'.format(tsn,i), trainPredictions[i][:,:,0])\n",
    "\n",
    "for i in range(len(predictions)):\n",
    "    np.savetxt('ts{}_{}_pix_predictions.txt'.format(tsn,i), predictions[i][:,:,0])"
   ]
  },
  {
   "cell_type": "code",
   "execution_count": 51,
   "metadata": {},
   "outputs": [],
   "source": [
    "np.savetxt('ts{}_no_dices.txt'.format(tsn),dices)\n",
    "\n",
    "for i in range(len(trainPredictions)):\n",
    "    np.savetxt('ts{}_{}_no_trainPredictions.txt'.format(tsn,i), trainPredictions[i][:,:,0])\n",
    "\n",
    "for i in range(len(predictions)):\n",
    "    np.savetxt('ts{}_{}_no_predictions.txt'.format(tsn,i), predictions[i][:,:,0])"
   ]
  },
  {
   "cell_type": "code",
   "execution_count": 52,
   "metadata": {},
   "outputs": [
    {
     "name": "stdout",
     "output_type": "stream",
     "text": [
      "0.621\n",
      "0.34\n",
      "0.55\n",
      "0.232\n"
     ]
    }
   ],
   "source": [
    "x_train,y_train,x_test,y_test=splitIntoSets(posList,maskList,comList,pixList,testSetPatients,'pix')\n",
    "predictions1=removePixels(predictions,x_test,lim)\n",
    "dices1=dicesForLimit(predictions1,y_test,lim)\n",
    "print(np.round(np.median(dices1),3))\n",
    "print(np.round(np.percentile(dices1,75)-np.percentile(dices1,25),3))\n",
    "print(np.round(np.mean(dices1),3))\n",
    "print(np.round(np.std(dices1),3))\n",
    "np.savetxt('ts{}_dices1_pix.txt'.format(tsn),dices1)"
   ]
  },
  {
   "cell_type": "code",
   "execution_count": 53,
   "metadata": {},
   "outputs": [
    {
     "name": "stdout",
     "output_type": "stream",
     "text": [
      "0.667\n",
      "0.327\n",
      "0.581\n",
      "0.198\n"
     ]
    }
   ],
   "source": [
    "x_train,y_train,x_test,y_test=splitIntoSets(posList,maskList,comList,pixList,testSetPatients,'com')\n",
    "predictions1=removePixels(predictions,x_test,lim)\n",
    "dices1=dicesForLimit(predictions1,y_test,lim)\n",
    "print(np.round(np.median(dices1),3))\n",
    "print(np.round(np.percentile(dices1,75)-np.percentile(dices1,25),3))\n",
    "print(np.round(np.mean(dices1),3))\n",
    "print(np.round(np.std(dices1),3))\n",
    "np.savetxt('ts{}_dices1_com.txt'.format(tsn),dices1)"
   ]
  },
  {
   "cell_type": "code",
   "execution_count": 2,
   "metadata": {},
   "outputs": [],
   "source": [
    "d1=np.loadtxt('C:/Users/Oona/Documents/Tpc/hnc/click/tss/ts1_no_dices.txt')\n",
    "d2=np.loadtxt('C:/Users/Oona/Documents/Tpc/hnc/click/tss/ts2_no_dices.txt')\n",
    "d3=np.loadtxt('C:/Users/Oona/Documents/Tpc/hnc/click/tss/ts3_no_dices.txt')\n",
    "d4=np.loadtxt('C:/Users/Oona/Documents/Tpc/hnc/click/tss/ts4_no_dices.txt')\n",
    "d5=np.loadtxt('C:/Users/Oona/Documents/Tpc/hnc/click/tss/ts5_no_dices.txt')\n",
    "noDices=np.concatenate((d1,d2,d3,d4,d5))"
   ]
  },
  {
   "cell_type": "code",
   "execution_count": 3,
   "metadata": {},
   "outputs": [],
   "source": [
    "d1=np.loadtxt('C:/Users/Oona/Documents/Tpc/hnc/click/tss/ts1_dices1_pix.txt')\n",
    "d2=np.loadtxt('C:/Users/Oona/Documents/Tpc/hnc/click/tss/ts2_dices1_pix.txt')\n",
    "d3=np.loadtxt('C:/Users/Oona/Documents/Tpc/hnc/click/tss/ts3_dices1_pix.txt')\n",
    "d4=np.loadtxt('C:/Users/Oona/Documents/Tpc/hnc/click/tss/ts4_dices1_pix.txt')\n",
    "d5=np.loadtxt('C:/Users/Oona/Documents/Tpc/hnc/click/tss/ts5_dices1_pix.txt')\n",
    "dices1Pix=np.concatenate((d1,d2,d3,d4,d5))"
   ]
  },
  {
   "cell_type": "code",
   "execution_count": 4,
   "metadata": {},
   "outputs": [],
   "source": [
    "d1=np.loadtxt('C:/Users/Oona/Documents/Tpc/hnc/click/tss/ts1_dices1_com.txt')\n",
    "d2=np.loadtxt('C:/Users/Oona/Documents/Tpc/hnc/click/tss/ts2_dices1_com.txt')\n",
    "d3=np.loadtxt('C:/Users/Oona/Documents/Tpc/hnc/click/tss/ts3_dices1_com.txt')\n",
    "d4=np.loadtxt('C:/Users/Oona/Documents/Tpc/hnc/click/tss/ts4_dices1_com.txt')\n",
    "d5=np.loadtxt('C:/Users/Oona/Documents/Tpc/hnc/click/tss/ts5_dices1_com.txt')\n",
    "dices1Com=np.concatenate((d1,d2,d3,d4,d5))"
   ]
  },
  {
   "cell_type": "code",
   "execution_count": 5,
   "metadata": {},
   "outputs": [],
   "source": [
    "d1=np.loadtxt('C:/Users/Oona/Documents/Tpc/hnc/click/tss/ts1_pix_dices.txt')\n",
    "d2=np.loadtxt('C:/Users/Oona/Documents/Tpc/hnc/click/tss/ts2_pix_dices.txt')\n",
    "d3=np.loadtxt('C:/Users/Oona/Documents/Tpc/hnc/click/tss/ts3_pix_dices.txt')\n",
    "d4=np.loadtxt('C:/Users/Oona/Documents/Tpc/hnc/click/tss/ts4_pix_dices.txt')\n",
    "d5=np.loadtxt('C:/Users/Oona/Documents/Tpc/hnc/click/tss/ts5_pix_dices.txt')\n",
    "pixDices=np.concatenate((d1,d2,d3,d4,d5))"
   ]
  },
  {
   "cell_type": "code",
   "execution_count": 6,
   "metadata": {},
   "outputs": [],
   "source": [
    "d1=np.loadtxt('C:/Users/Oona/Documents/Tpc/hnc/click/tss/ts1_com_dices.txt')\n",
    "d2=np.loadtxt('C:/Users/Oona/Documents/Tpc/hnc/click/tss/ts2_com_dices.txt')\n",
    "d3=np.loadtxt('C:/Users/Oona/Documents/Tpc/hnc/click/tss/ts3_com_dices.txt')\n",
    "d4=np.loadtxt('C:/Users/Oona/Documents/Tpc/hnc/click/tss/ts4_com_dices.txt')\n",
    "d5=np.loadtxt('C:/Users/Oona/Documents/Tpc/hnc/click/tss/ts5_com_dices.txt')\n",
    "comDices=np.concatenate((d1,d2,d3,d4,d5))"
   ]
  },
  {
   "cell_type": "code",
   "execution_count": 11,
   "metadata": {},
   "outputs": [
    {
     "name": "stdout",
     "output_type": "stream",
     "text": [
      "0.691\n",
      "0.317\n",
      "0.633\n",
      "0.231\n"
     ]
    }
   ],
   "source": [
    "dices=comDices\n",
    "print(np.round(np.median(dices),3))\n",
    "print(np.round(np.percentile(dices,75)-np.percentile(dices,25),3))\n",
    "print(np.round(np.mean(dices),3))\n",
    "print(np.round(np.std(dices),3))"
   ]
  },
  {
   "cell_type": "code",
   "execution_count": 12,
   "metadata": {},
   "outputs": [
    {
     "name": "stdout",
     "output_type": "stream",
     "text": [
      "WilcoxonResult(statistic=802.0, pvalue=0.0016092406282957703)\n",
      "WilcoxonResult(statistic=714.0, pvalue=0.0007598625459485163)\n",
      "WilcoxonResult(statistic=4813.0, pvalue=0.9129415319791908)\n",
      "WilcoxonResult(statistic=3666.0, pvalue=0.01170634810135393)\n"
     ]
    }
   ],
   "source": [
    "print(wilcoxon(x=noDices,y=dices1Pix))\n",
    "print(wilcoxon(x=noDices,y=dices1Com))\n",
    "print(wilcoxon(x=noDices,y=pixDices))\n",
    "print(wilcoxon(x=noDices,y=comDices))"
   ]
  },
  {
   "cell_type": "code",
   "execution_count": 13,
   "metadata": {},
   "outputs": [
    {
     "name": "stdout",
     "output_type": "stream",
     "text": [
      "WilcoxonResult(statistic=67.0, pvalue=0.9587607499379828)\n",
      "WilcoxonResult(statistic=3198.0, pvalue=0.00030257034716715673)\n",
      "WilcoxonResult(statistic=4363.0, pvalue=0.29122161622983933)\n"
     ]
    }
   ],
   "source": [
    "print(wilcoxon(x=dices1Pix,y=dices1Com))\n",
    "print(wilcoxon(x=dices1Pix,y=pixDices))\n",
    "print(wilcoxon(x=dices1Pix,y=comDices))"
   ]
  },
  {
   "cell_type": "code",
   "execution_count": 14,
   "metadata": {},
   "outputs": [
    {
     "name": "stdout",
     "output_type": "stream",
     "text": [
      "WilcoxonResult(statistic=3075.0, pvalue=0.00010931018838019725)\n",
      "WilcoxonResult(statistic=4412.0, pvalue=0.4992250319312319)\n"
     ]
    }
   ],
   "source": [
    "print(wilcoxon(x=dices1Com,y=pixDices))\n",
    "print(wilcoxon(x=dices1Com,y=comDices))"
   ]
  },
  {
   "cell_type": "code",
   "execution_count": 15,
   "metadata": {},
   "outputs": [
    {
     "name": "stdout",
     "output_type": "stream",
     "text": [
      "WilcoxonResult(statistic=3530.0, pvalue=0.005003439061753743)\n"
     ]
    }
   ],
   "source": [
    "print(wilcoxon(x=pixDices,y=comDices))"
   ]
  },
  {
   "cell_type": "code",
   "execution_count": 17,
   "metadata": {},
   "outputs": [],
   "source": [
    "def f_test(x,y):\n",
    "\n",
    "    x=np.array(x)\n",
    "    y=np.array(y)\n",
    "    f=np.var(x,ddof=1)/np.var(y,ddof=1)\n",
    "    dfn=x.size-1\n",
    "    dfd=y.size-1\n",
    "    p=2*min(1-scipy.stats.f.cdf(f,dfn,dfd),scipy.stats.f.cdf(f,dfn,dfd))\n",
    "    return(p)"
   ]
  },
  {
   "cell_type": "code",
   "execution_count": 18,
   "metadata": {},
   "outputs": [
    {
     "name": "stdout",
     "output_type": "stream",
     "text": [
      "0.607777136746369\n",
      "0.47313237276510284\n",
      "0.015211511715367942\n",
      "0.7088431909698607\n"
     ]
    }
   ],
   "source": [
    "print(f_test(x=noDices,y=dices1Pix))\n",
    "print(f_test(x=noDices,y=dices1Com))\n",
    "print(f_test(x=noDices,y=pixDices))\n",
    "print(f_test(x=noDices,y=comDices))"
   ]
  },
  {
   "cell_type": "code",
   "execution_count": 19,
   "metadata": {},
   "outputs": [
    {
     "name": "stdout",
     "output_type": "stream",
     "text": [
      "0.8381368448675997\n",
      "0.0033453208407907553\n",
      "0.3754259464705809\n"
     ]
    }
   ],
   "source": [
    "print(f_test(x=dices1Pix,y=dices1Com))\n",
    "print(f_test(x=dices1Pix,y=pixDices))\n",
    "print(f_test(x=dices1Pix,y=comDices))"
   ]
  },
  {
   "cell_type": "code",
   "execution_count": 20,
   "metadata": {},
   "outputs": [
    {
     "name": "stdout",
     "output_type": "stream",
     "text": [
      "0.0017182641502166973\n",
      "0.275589723895439\n"
     ]
    }
   ],
   "source": [
    "print(f_test(x=dices1Com,y=pixDices))\n",
    "print(f_test(x=dices1Com,y=comDices))"
   ]
  },
  {
   "cell_type": "code",
   "execution_count": 21,
   "metadata": {},
   "outputs": [
    {
     "name": "stdout",
     "output_type": "stream",
     "text": [
      "0.0396666290484341\n"
     ]
    }
   ],
   "source": [
    "print(f_test(x=pixDices,y=comDices))"
   ]
  },
  {
   "cell_type": "code",
   "execution_count": 22,
   "metadata": {},
   "outputs": [
    {
     "data": {
      "image/png": "[encoded data removed]",
      "text/plain": [
       "<Figure size 288x288 with 1 Axes>"
      ]
     },
     "metadata": {
      "needs_background": "light"
     },
     "output_type": "display_data"
    }
   ],
   "source": [
    "d=[noDices,dices1Pix,dices1Com,pixDices,comDices]\n",
    "fig=plt.figure(figsize=(4,4))\n",
    "axi=fig.add_axes([0,0,1,1])\n",
    "bplot=axi.boxplot(d,patch_artist=True,positions=[1,2,3,4,5])\n",
    "colors=5*['white']\n",
    "for patch,color in zip(bplot['boxes'],colors):\n",
    "    patch.set_facecolor(color)\n",
    "for median in bplot['medians']:\n",
    "    median.set(color='black',linewidth=1.5)\n",
    "plt.xticks([1,2,3,4,5],['(1)','(2)','(3)','(4)','(5)'],fontsize=13)\n",
    "plt.yticks(fontsize=13)\n",
    "fig=plt.gcf()\n",
    "plt.show()\n",
    "fig.savefig('fig_plt_5',bbox_inches='tight')"
   ]
  },
  {
   "cell_type": "code",
   "execution_count": 53,
   "metadata": {},
   "outputs": [
    {
     "data": {
      "text/plain": [
       "-0.06609583646059036"
      ]
     },
     "execution_count": 53,
     "metadata": {},
     "output_type": "execute_result"
    }
   ],
   "source": [
    "trainPredictions[0,0,0]"
   ]
  },
  {
   "cell_type": "code",
   "execution_count": null,
   "metadata": {},
   "outputs": [],
   "source": [
    "tsn=1\n",
    "testSetPatients=[3,10,12]\n",
    "x_train,y_train,x_test,y_test=splitIntoSets(posList,maskList,comList,pixList,testSetPatients,'no')\n",
    "\n",
    "trainPredictions=[]\n",
    "for i in range(len(x_train)):\n",
    "    trainPredictions.append(np.loadtxt('tss/ts{}_{}_no_trainPredictions.txt'.format(tsn,i)))\n",
    "trainPredictions=np.array(trainPredictions)\n",
    "lim=optimizeDiceLimit(trainPredictions,y_train) #0.30\n",
    "print(lim)\n",
    "\n",
    "trainPredictions=[]\n",
    "for i in range(len(x_train)):\n",
    "    trainPredictions.append(np.loadtxt('tss/ts{}_{}_pix_trainPredictions.txt'.format(tsn,i)))\n",
    "trainPredictions=np.array(trainPredictions)\n",
    "lim0=optimizeDiceLimit(trainPredictions,y_train) #0.33\n",
    "print(lim0)\n",
    "\n",
    "trainPredictions=[]\n",
    "for i in range(len(x_train)):\n",
    "    trainPredictions.append(np.loadtxt('tss/ts{}_{}_com_trainPredictions.txt'.format(tsn,i)))\n",
    "trainPredictions=np.array(trainPredictions)\n",
    "lim1=optimizeDiceLimit(trainPredictions,y_train) #0.42\n",
    "print(lim1)\n",
    "\n",
    "predictions=[]\n",
    "for i in range(len(x_test)):\n",
    "    predictions.append(np.loadtxt('tss/ts{}_{}_no_predictions.txt'.format(tsn,i)))\n",
    "predictions=np.array(predictions)\n",
    "\n",
    "i=3\n",
    "\n",
    "img=x_test[i]**0.3\n",
    "img=cv2.rotate(img,cv2.cv2.ROTATE_90_COUNTERCLOCKWISE)\n",
    "plt.imshow(img,cmap='gray')\n",
    "fig=plt.gcf()\n",
    "plt.axis('off')\n",
    "fig.savefig('fig_b_img',bbox_inches='tight')\n",
    "plt.show()\n",
    "\n",
    "img=y_test[i]\n",
    "img=cv2.rotate(img,cv2.cv2.ROTATE_90_COUNTERCLOCKWISE)\n",
    "plt.imshow(img,cmap='gray')\n",
    "fig=plt.gcf()\n",
    "plt.axis('off')\n",
    "#fig.savefig('fig_b_r',bbox_inches='tight')\n",
    "plt.show()\n",
    "\n",
    "img=predictions[i]\n",
    "img=cv2.rotate(img,cv2.cv2.ROTATE_90_COUNTERCLOCKWISE)\n",
    "img=turnIntoBinaryMask(img,lim)\n",
    "plt.imshow(img,cmap='gray')\n",
    "fig=plt.gcf()\n",
    "plt.axis('off')\n",
    "#fig.savefig('fig_b_1',bbox_inches='tight')\n",
    "plt.show()\n",
    "print(noDices[i])\n",
    "\n",
    "x_train,y_train,x_test,y_test=splitIntoSets(posList,maskList,comList,pixList,testSetPatients,'pix')\n",
    "predictions1=removePixels(predictions,x_test,lim)\n",
    "img=predictions1[i]\n",
    "img=cv2.rotate(img,cv2.cv2.ROTATE_90_COUNTERCLOCKWISE)\n",
    "plt.imshow(img,cmap='gray')\n",
    "fig=plt.gcf()\n",
    "plt.axis('off')\n",
    "#fig.savefig('fig_b_',bbox_inches='tight')\n",
    "plt.show()\n",
    "print(dices1Pix[i])\n",
    "\n",
    "x_train,y_train,x_test,y_test=splitIntoSets(posList,maskList,comList,pixList,testSetPatients,'com')\n",
    "predictions1=removePixels(predictions,x_test,lim)\n",
    "img=predictions1[i]\n",
    "img=cv2.rotate(img,cv2.cv2.ROTATE_90_COUNTERCLOCKWISE)\n",
    "plt.imshow(img,cmap='gray')\n",
    "fig=plt.gcf()\n",
    "plt.axis('off')\n",
    "#fig.savefig('fig_b_3',bbox_inches='tight')\n",
    "plt.show()\n",
    "print(dices1Com[i])\n",
    "\n",
    "img=np.loadtxt('tss/ts{}_{}_pix_predictions.txt'.format(tsn,i))\n",
    "img=cv2.rotate(img,cv2.cv2.ROTATE_90_COUNTERCLOCKWISE)\n",
    "img=turnIntoBinaryMask(img,lim0)\n",
    "plt.imshow(img,cmap='gray')\n",
    "fig=plt.gcf()\n",
    "plt.axis('off')\n",
    "#fig.savefig('fig_b_4',bbox_inches='tight')\n",
    "plt.show()\n",
    "print(pixDices[i])\n",
    "\n",
    "img=np.loadtxt('tss/ts{}_{}_com_predictions.txt'.format(tsn,i))\n",
    "img=cv2.rotate(img,cv2.cv2.ROTATE_90_COUNTERCLOCKWISE)\n",
    "img=turnIntoBinaryMask(img,lim1)\n",
    "plt.imshow(img,cmap='gray')\n",
    "fig=plt.gcf()\n",
    "plt.axis('off')\n",
    "#fig.savefig('fig_b_5',bbox_inches='tight')\n",
    "plt.show()\n",
    "print(comDices[i])"
   ]
  }
 ],
 "metadata": {
  "kernelspec": {
   "display_name": "Python 3.9.9 64-bit",
   "language": "python",
   "name": "python3"
  },
  "language_info": {
   "codemirror_mode": {
    "name": "ipython",
    "version": 3
   },
   "file_extension": ".py",
   "mimetype": "text/x-python",
   "name": "python",
   "nbconvert_exporter": "python",
   "pygments_lexer": "ipython3",
   "version": "3.9.9"
  },
  "orig_nbformat": 4,
  "vscode": {
   "interpreter": {
    "hash": "807538355894bfe9c3b0fc3c547a7e24e0703440031706ea4ad2899e310ac795"
   }
  }
 },
 "nbformat": 4,
 "nbformat_minor": 2
}
